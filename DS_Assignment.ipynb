{
  "nbformat": 4,
  "nbformat_minor": 0,
  "metadata": {
    "colab": {
      "name": "DS Assignment.ipynb",
      "provenance": [],
      "collapsed_sections": []
    },
    "kernelspec": {
      "name": "python3",
      "display_name": "Python 3"
    },
    "language_info": {
      "name": "python"
    }
  },
  "cells": [
    {
      "cell_type": "markdown",
      "source": [
        "In this notebook, we will scikit-learn to perform a decision tree based classification of weather data."
      ],
      "metadata": {
        "id": "m6j9KCxWm-nO"
      }
    },
    {
      "cell_type": "markdown",
      "source": [
        "Import Libraries"
      ],
      "metadata": {
        "id": "BKvDDrKD58PI"
      }
    },
    {
      "cell_type": "code",
      "execution_count": null,
      "metadata": {
        "id": "JPEWyWuI5ZHV"
      },
      "outputs": [],
      "source": [
        "import pandas as pd\n",
        "from sklearn.metrics import accuracy_score\n",
        "from sklearn.model_selection import train_test_split\n",
        "from sklearn.tree import DecisionTreeClassifier"
      ]
    },
    {
      "cell_type": "markdown",
      "source": [
        "Creating a Pandas DataFrame from a CSV file "
      ],
      "metadata": {
        "id": "UUiP_z8S6CVP"
      }
    },
    {
      "cell_type": "code",
      "source": [
        "data = pd.read_csv('daily_weather.csv')"
      ],
      "metadata": {
        "id": "mrqzCreP5nez"
      },
      "execution_count": null,
      "outputs": []
    },
    {
      "cell_type": "markdown",
      "source": [
        "#Daily Weather Data Description<br>\n",
        "The file **daily_weather** is a comma-seperated file that contains weather data. The data comes from a weather station located in San Dlego,California .The weather station is equipped with sensor that capture weather-related measurements such as air temperature,air pressure,and relative humidity.Data was collected for a period of three years,from September 2011 to September 2019,to ensure that sufficient data for different seasons and weather conditions is captured."
      ],
      "metadata": {
        "id": "zY4XBOtazIxe"
      }
    },
    {
      "cell_type": "markdown",
      "source": [
        "let's now check all the columns in the data."
      ],
      "metadata": {
        "id": "zV8y23g-56nc"
      }
    },
    {
      "cell_type": "code",
      "source": [
        "data.columns"
      ],
      "metadata": {
        "colab": {
          "base_uri": "https://localhost:8080/"
        },
        "id": "tWkzekt152f9",
        "outputId": "81b14e4f-bbbd-4c98-f3fe-53494d6b9d6c"
      },
      "execution_count": null,
      "outputs": [
        {
          "output_type": "execute_result",
          "data": {
            "text/plain": [
              "Index(['number', 'air_pressure_9am', 'air_temp_9am', 'avg_wind_direction_9am',\n",
              "       'avg_wind_speed_9am', 'max_wind_direction_9am', 'max_wind_speed_9am',\n",
              "       'rain_accumulation_9am', 'rain_duration_9am', 'relative_humidity_9am',\n",
              "       'relative_humidity_3pm'],\n",
              "      dtype='object')"
            ]
          },
          "metadata": {},
          "execution_count": 5
        }
      ]
    },
    {
      "cell_type": "markdown",
      "source": [
        "predict weather the day will be low-humidity or not based on the afternoon measurement of terrible humidity.<br>\n",
        "Each row or sample ,consist of the following  variables:"
      ],
      "metadata": {
        "id": "6BzlUHWe1_xW"
      }
    },
    {
      "cell_type": "markdown",
      "source": [
        "1.**number**: unique number for each row.<br>\n",
        "2.**air_pressure_9am**:air pressure averaged over a period from 8:55am to 9:04am (unit:hectoascais)<br>\n",
        "3.**air_temp_9am**:air temperature averaged  over a period from 8:55am to 9:04am(unit degree Fahrenheit)<br>\n",
        "4.**air_wind_direction_9am**:wind direction averaged over a period from 8:55am to 9:04am(unit degrees with 0 means coming from the North and increasing clockwise)<br>\n",
        "5.**air_wind_speed_9am**:wid speed averaged over a period  from 8:55am to 9:04am (unit miles per hour)<br>\n",
        "6.**max_wind_speed_9am**:wind gust speed averaged over a period from 8:55am to 9:04am (unit miles per hour)<br>\n",
        "7.**rain_accumuulation_9am**:amount of time rain was accumulated in the 24 hours prior to 9am (unit milimeters)<br>\n",
        "8.**rain-duration_9am**:amount of time rain was recorded in he 24 hours prior to 9am (unit seconds)<br>\n",
        "9.**realative_humidity_9am**:relative humidity averaged over a period from 8:55am to 9:04am(unit percent)<br>\n",
        "10.**relative_humidity_3pm** :relative humidity averaged over a period from 2:55pm to 3:04pm(unit percent) "
      ],
      "metadata": {
        "id": "43UjfkgQ3JiR"
      }
    },
    {
      "cell_type": "code",
      "source": [
        "data"
      ],
      "metadata": {
        "colab": {
          "base_uri": "https://localhost:8080/",
          "height": 487
        },
        "id": "KebNzyvz7A2c",
        "outputId": "7d4df939-57ad-439a-f045-925449124326"
      },
      "execution_count": null,
      "outputs": [
        {
          "output_type": "execute_result",
          "data": {
            "text/html": [
              "\n",
              "  <div id=\"df-0492c9e3-c218-4d0b-a5a9-7eaf02a59de9\">\n",
              "    <div class=\"colab-df-container\">\n",
              "      <div>\n",
              "<style scoped>\n",
              "    .dataframe tbody tr th:only-of-type {\n",
              "        vertical-align: middle;\n",
              "    }\n",
              "\n",
              "    .dataframe tbody tr th {\n",
              "        vertical-align: top;\n",
              "    }\n",
              "\n",
              "    .dataframe thead th {\n",
              "        text-align: right;\n",
              "    }\n",
              "</style>\n",
              "<table border=\"1\" class=\"dataframe\">\n",
              "  <thead>\n",
              "    <tr style=\"text-align: right;\">\n",
              "      <th></th>\n",
              "      <th>number</th>\n",
              "      <th>air_pressure_9am</th>\n",
              "      <th>air_temp_9am</th>\n",
              "      <th>avg_wind_direction_9am</th>\n",
              "      <th>avg_wind_speed_9am</th>\n",
              "      <th>max_wind_direction_9am</th>\n",
              "      <th>max_wind_speed_9am</th>\n",
              "      <th>rain_accumulation_9am</th>\n",
              "      <th>rain_duration_9am</th>\n",
              "      <th>relative_humidity_9am</th>\n",
              "      <th>relative_humidity_3pm</th>\n",
              "    </tr>\n",
              "  </thead>\n",
              "  <tbody>\n",
              "    <tr>\n",
              "      <th>0</th>\n",
              "      <td>0</td>\n",
              "      <td>918.060000</td>\n",
              "      <td>74.822000</td>\n",
              "      <td>271.100000</td>\n",
              "      <td>2.080354</td>\n",
              "      <td>295.400000</td>\n",
              "      <td>2.863283</td>\n",
              "      <td>0.0</td>\n",
              "      <td>0.0</td>\n",
              "      <td>42.420000</td>\n",
              "      <td>36.160000</td>\n",
              "    </tr>\n",
              "    <tr>\n",
              "      <th>1</th>\n",
              "      <td>1</td>\n",
              "      <td>917.347688</td>\n",
              "      <td>71.403843</td>\n",
              "      <td>101.935179</td>\n",
              "      <td>2.443009</td>\n",
              "      <td>140.471548</td>\n",
              "      <td>3.533324</td>\n",
              "      <td>0.0</td>\n",
              "      <td>0.0</td>\n",
              "      <td>24.328697</td>\n",
              "      <td>19.426597</td>\n",
              "    </tr>\n",
              "    <tr>\n",
              "      <th>2</th>\n",
              "      <td>2</td>\n",
              "      <td>923.040000</td>\n",
              "      <td>60.638000</td>\n",
              "      <td>51.000000</td>\n",
              "      <td>17.067852</td>\n",
              "      <td>63.700000</td>\n",
              "      <td>22.100967</td>\n",
              "      <td>0.0</td>\n",
              "      <td>20.0</td>\n",
              "      <td>8.900000</td>\n",
              "      <td>14.460000</td>\n",
              "    </tr>\n",
              "    <tr>\n",
              "      <th>3</th>\n",
              "      <td>3</td>\n",
              "      <td>920.502751</td>\n",
              "      <td>70.138895</td>\n",
              "      <td>198.832133</td>\n",
              "      <td>4.337363</td>\n",
              "      <td>211.203341</td>\n",
              "      <td>5.190045</td>\n",
              "      <td>0.0</td>\n",
              "      <td>0.0</td>\n",
              "      <td>12.189102</td>\n",
              "      <td>12.742547</td>\n",
              "    </tr>\n",
              "    <tr>\n",
              "      <th>4</th>\n",
              "      <td>4</td>\n",
              "      <td>921.160000</td>\n",
              "      <td>44.294000</td>\n",
              "      <td>277.800000</td>\n",
              "      <td>1.856660</td>\n",
              "      <td>136.500000</td>\n",
              "      <td>2.863283</td>\n",
              "      <td>8.9</td>\n",
              "      <td>14730.0</td>\n",
              "      <td>92.410000</td>\n",
              "      <td>76.740000</td>\n",
              "    </tr>\n",
              "    <tr>\n",
              "      <th>...</th>\n",
              "      <td>...</td>\n",
              "      <td>...</td>\n",
              "      <td>...</td>\n",
              "      <td>...</td>\n",
              "      <td>...</td>\n",
              "      <td>...</td>\n",
              "      <td>...</td>\n",
              "      <td>...</td>\n",
              "      <td>...</td>\n",
              "      <td>...</td>\n",
              "      <td>...</td>\n",
              "    </tr>\n",
              "    <tr>\n",
              "      <th>1090</th>\n",
              "      <td>1090</td>\n",
              "      <td>918.900000</td>\n",
              "      <td>63.104000</td>\n",
              "      <td>192.900000</td>\n",
              "      <td>3.869906</td>\n",
              "      <td>207.300000</td>\n",
              "      <td>5.212070</td>\n",
              "      <td>0.0</td>\n",
              "      <td>0.0</td>\n",
              "      <td>26.020000</td>\n",
              "      <td>38.180000</td>\n",
              "    </tr>\n",
              "    <tr>\n",
              "      <th>1091</th>\n",
              "      <td>1091</td>\n",
              "      <td>918.710000</td>\n",
              "      <td>49.568000</td>\n",
              "      <td>241.600000</td>\n",
              "      <td>1.811921</td>\n",
              "      <td>227.400000</td>\n",
              "      <td>2.371156</td>\n",
              "      <td>0.0</td>\n",
              "      <td>0.0</td>\n",
              "      <td>90.350000</td>\n",
              "      <td>73.340000</td>\n",
              "    </tr>\n",
              "    <tr>\n",
              "      <th>1092</th>\n",
              "      <td>1092</td>\n",
              "      <td>916.600000</td>\n",
              "      <td>71.096000</td>\n",
              "      <td>189.300000</td>\n",
              "      <td>3.064608</td>\n",
              "      <td>200.800000</td>\n",
              "      <td>3.892276</td>\n",
              "      <td>0.0</td>\n",
              "      <td>0.0</td>\n",
              "      <td>45.590000</td>\n",
              "      <td>52.310000</td>\n",
              "    </tr>\n",
              "    <tr>\n",
              "      <th>1093</th>\n",
              "      <td>1093</td>\n",
              "      <td>912.600000</td>\n",
              "      <td>58.406000</td>\n",
              "      <td>172.700000</td>\n",
              "      <td>3.825167</td>\n",
              "      <td>189.100000</td>\n",
              "      <td>4.764682</td>\n",
              "      <td>0.0</td>\n",
              "      <td>0.0</td>\n",
              "      <td>64.840000</td>\n",
              "      <td>58.280000</td>\n",
              "    </tr>\n",
              "    <tr>\n",
              "      <th>1094</th>\n",
              "      <td>1094</td>\n",
              "      <td>921.530000</td>\n",
              "      <td>77.702000</td>\n",
              "      <td>97.100000</td>\n",
              "      <td>3.265932</td>\n",
              "      <td>125.900000</td>\n",
              "      <td>4.451511</td>\n",
              "      <td>0.0</td>\n",
              "      <td>0.0</td>\n",
              "      <td>14.560000</td>\n",
              "      <td>15.100000</td>\n",
              "    </tr>\n",
              "  </tbody>\n",
              "</table>\n",
              "<p>1095 rows × 11 columns</p>\n",
              "</div>\n",
              "      <button class=\"colab-df-convert\" onclick=\"convertToInteractive('df-0492c9e3-c218-4d0b-a5a9-7eaf02a59de9')\"\n",
              "              title=\"Convert this dataframe to an interactive table.\"\n",
              "              style=\"display:none;\">\n",
              "        \n",
              "  <svg xmlns=\"http://www.w3.org/2000/svg\" height=\"24px\"viewBox=\"0 0 24 24\"\n",
              "       width=\"24px\">\n",
              "    <path d=\"M0 0h24v24H0V0z\" fill=\"none\"/>\n",
              "    <path d=\"M18.56 5.44l.94 2.06.94-2.06 2.06-.94-2.06-.94-.94-2.06-.94 2.06-2.06.94zm-11 1L8.5 8.5l.94-2.06 2.06-.94-2.06-.94L8.5 2.5l-.94 2.06-2.06.94zm10 10l.94 2.06.94-2.06 2.06-.94-2.06-.94-.94-2.06-.94 2.06-2.06.94z\"/><path d=\"M17.41 7.96l-1.37-1.37c-.4-.4-.92-.59-1.43-.59-.52 0-1.04.2-1.43.59L10.3 9.45l-7.72 7.72c-.78.78-.78 2.05 0 2.83L4 21.41c.39.39.9.59 1.41.59.51 0 1.02-.2 1.41-.59l7.78-7.78 2.81-2.81c.8-.78.8-2.07 0-2.86zM5.41 20L4 18.59l7.72-7.72 1.47 1.35L5.41 20z\"/>\n",
              "  </svg>\n",
              "      </button>\n",
              "      \n",
              "  <style>\n",
              "    .colab-df-container {\n",
              "      display:flex;\n",
              "      flex-wrap:wrap;\n",
              "      gap: 12px;\n",
              "    }\n",
              "\n",
              "    .colab-df-convert {\n",
              "      background-color: #E8F0FE;\n",
              "      border: none;\n",
              "      border-radius: 50%;\n",
              "      cursor: pointer;\n",
              "      display: none;\n",
              "      fill: #1967D2;\n",
              "      height: 32px;\n",
              "      padding: 0 0 0 0;\n",
              "      width: 32px;\n",
              "    }\n",
              "\n",
              "    .colab-df-convert:hover {\n",
              "      background-color: #E2EBFA;\n",
              "      box-shadow: 0px 1px 2px rgba(60, 64, 67, 0.3), 0px 1px 3px 1px rgba(60, 64, 67, 0.15);\n",
              "      fill: #174EA6;\n",
              "    }\n",
              "\n",
              "    [theme=dark] .colab-df-convert {\n",
              "      background-color: #3B4455;\n",
              "      fill: #D2E3FC;\n",
              "    }\n",
              "\n",
              "    [theme=dark] .colab-df-convert:hover {\n",
              "      background-color: #434B5C;\n",
              "      box-shadow: 0px 1px 3px 1px rgba(0, 0, 0, 0.15);\n",
              "      filter: drop-shadow(0px 1px 2px rgba(0, 0, 0, 0.3));\n",
              "      fill: #FFFFFF;\n",
              "    }\n",
              "  </style>\n",
              "\n",
              "      <script>\n",
              "        const buttonEl =\n",
              "          document.querySelector('#df-0492c9e3-c218-4d0b-a5a9-7eaf02a59de9 button.colab-df-convert');\n",
              "        buttonEl.style.display =\n",
              "          google.colab.kernel.accessAllowed ? 'block' : 'none';\n",
              "\n",
              "        async function convertToInteractive(key) {\n",
              "          const element = document.querySelector('#df-0492c9e3-c218-4d0b-a5a9-7eaf02a59de9');\n",
              "          const dataTable =\n",
              "            await google.colab.kernel.invokeFunction('convertToInteractive',\n",
              "                                                     [key], {});\n",
              "          if (!dataTable) return;\n",
              "\n",
              "          const docLinkHtml = 'Like what you see? Visit the ' +\n",
              "            '<a target=\"_blank\" href=https://colab.research.google.com/notebooks/data_table.ipynb>data table notebook</a>'\n",
              "            + ' to learn more about interactive tables.';\n",
              "          element.innerHTML = '';\n",
              "          dataTable['output_type'] = 'display_data';\n",
              "          await google.colab.output.renderOutput(dataTable, element);\n",
              "          const docLink = document.createElement('div');\n",
              "          docLink.innerHTML = docLinkHtml;\n",
              "          element.appendChild(docLink);\n",
              "        }\n",
              "      </script>\n",
              "    </div>\n",
              "  </div>\n",
              "  "
            ],
            "text/plain": [
              "      number  air_pressure_9am  ...  relative_humidity_9am  relative_humidity_3pm\n",
              "0          0        918.060000  ...              42.420000              36.160000\n",
              "1          1        917.347688  ...              24.328697              19.426597\n",
              "2          2        923.040000  ...               8.900000              14.460000\n",
              "3          3        920.502751  ...              12.189102              12.742547\n",
              "4          4        921.160000  ...              92.410000              76.740000\n",
              "...      ...               ...  ...                    ...                    ...\n",
              "1090    1090        918.900000  ...              26.020000              38.180000\n",
              "1091    1091        918.710000  ...              90.350000              73.340000\n",
              "1092    1092        916.600000  ...              45.590000              52.310000\n",
              "1093    1093        912.600000  ...              64.840000              58.280000\n",
              "1094    1094        921.530000  ...              14.560000              15.100000\n",
              "\n",
              "[1095 rows x 11 columns]"
            ]
          },
          "metadata": {},
          "execution_count": 6
        }
      ]
    },
    {
      "cell_type": "code",
      "source": [
        "data[data.isnull().any(axis=1)]"
      ],
      "metadata": {
        "colab": {
          "base_uri": "https://localhost:8080/",
          "height": 1000
        },
        "id": "hLPgKshw7OnR",
        "outputId": "b6fe206e-8dec-4a2a-d121-ddd41c67754e"
      },
      "execution_count": null,
      "outputs": [
        {
          "output_type": "execute_result",
          "data": {
            "text/html": [
              "\n",
              "  <div id=\"df-651924b5-f14c-4199-9af9-390c33fb556c\">\n",
              "    <div class=\"colab-df-container\">\n",
              "      <div>\n",
              "<style scoped>\n",
              "    .dataframe tbody tr th:only-of-type {\n",
              "        vertical-align: middle;\n",
              "    }\n",
              "\n",
              "    .dataframe tbody tr th {\n",
              "        vertical-align: top;\n",
              "    }\n",
              "\n",
              "    .dataframe thead th {\n",
              "        text-align: right;\n",
              "    }\n",
              "</style>\n",
              "<table border=\"1\" class=\"dataframe\">\n",
              "  <thead>\n",
              "    <tr style=\"text-align: right;\">\n",
              "      <th></th>\n",
              "      <th>number</th>\n",
              "      <th>air_pressure_9am</th>\n",
              "      <th>air_temp_9am</th>\n",
              "      <th>avg_wind_direction_9am</th>\n",
              "      <th>avg_wind_speed_9am</th>\n",
              "      <th>max_wind_direction_9am</th>\n",
              "      <th>max_wind_speed_9am</th>\n",
              "      <th>rain_accumulation_9am</th>\n",
              "      <th>rain_duration_9am</th>\n",
              "      <th>relative_humidity_9am</th>\n",
              "      <th>relative_humidity_3pm</th>\n",
              "    </tr>\n",
              "  </thead>\n",
              "  <tbody>\n",
              "    <tr>\n",
              "      <th>16</th>\n",
              "      <td>16</td>\n",
              "      <td>917.890000</td>\n",
              "      <td>NaN</td>\n",
              "      <td>169.200000</td>\n",
              "      <td>2.192201</td>\n",
              "      <td>196.800000</td>\n",
              "      <td>2.930391</td>\n",
              "      <td>0.000</td>\n",
              "      <td>0.000000</td>\n",
              "      <td>48.990000</td>\n",
              "      <td>51.190000</td>\n",
              "    </tr>\n",
              "    <tr>\n",
              "      <th>111</th>\n",
              "      <td>111</td>\n",
              "      <td>915.290000</td>\n",
              "      <td>58.820000</td>\n",
              "      <td>182.600000</td>\n",
              "      <td>15.613841</td>\n",
              "      <td>189.000000</td>\n",
              "      <td>NaN</td>\n",
              "      <td>0.000</td>\n",
              "      <td>0.000000</td>\n",
              "      <td>21.500000</td>\n",
              "      <td>29.690000</td>\n",
              "    </tr>\n",
              "    <tr>\n",
              "      <th>177</th>\n",
              "      <td>177</td>\n",
              "      <td>915.900000</td>\n",
              "      <td>NaN</td>\n",
              "      <td>183.300000</td>\n",
              "      <td>4.719943</td>\n",
              "      <td>189.900000</td>\n",
              "      <td>5.346287</td>\n",
              "      <td>0.000</td>\n",
              "      <td>0.000000</td>\n",
              "      <td>29.260000</td>\n",
              "      <td>46.500000</td>\n",
              "    </tr>\n",
              "    <tr>\n",
              "      <th>262</th>\n",
              "      <td>262</td>\n",
              "      <td>923.596607</td>\n",
              "      <td>58.380598</td>\n",
              "      <td>47.737753</td>\n",
              "      <td>10.636273</td>\n",
              "      <td>67.145843</td>\n",
              "      <td>13.671423</td>\n",
              "      <td>0.000</td>\n",
              "      <td>NaN</td>\n",
              "      <td>17.990876</td>\n",
              "      <td>16.461685</td>\n",
              "    </tr>\n",
              "    <tr>\n",
              "      <th>277</th>\n",
              "      <td>277</td>\n",
              "      <td>920.480000</td>\n",
              "      <td>62.600000</td>\n",
              "      <td>194.400000</td>\n",
              "      <td>2.751436</td>\n",
              "      <td>NaN</td>\n",
              "      <td>3.869906</td>\n",
              "      <td>0.000</td>\n",
              "      <td>0.000000</td>\n",
              "      <td>52.580000</td>\n",
              "      <td>54.030000</td>\n",
              "    </tr>\n",
              "    <tr>\n",
              "      <th>334</th>\n",
              "      <td>334</td>\n",
              "      <td>916.230000</td>\n",
              "      <td>75.740000</td>\n",
              "      <td>149.100000</td>\n",
              "      <td>2.751436</td>\n",
              "      <td>187.500000</td>\n",
              "      <td>4.183078</td>\n",
              "      <td>NaN</td>\n",
              "      <td>1480.000000</td>\n",
              "      <td>31.880000</td>\n",
              "      <td>32.900000</td>\n",
              "    </tr>\n",
              "    <tr>\n",
              "      <th>358</th>\n",
              "      <td>358</td>\n",
              "      <td>917.440000</td>\n",
              "      <td>58.514000</td>\n",
              "      <td>55.100000</td>\n",
              "      <td>10.021491</td>\n",
              "      <td>NaN</td>\n",
              "      <td>12.705819</td>\n",
              "      <td>0.000</td>\n",
              "      <td>0.000000</td>\n",
              "      <td>13.880000</td>\n",
              "      <td>25.930000</td>\n",
              "    </tr>\n",
              "    <tr>\n",
              "      <th>361</th>\n",
              "      <td>361</td>\n",
              "      <td>920.444946</td>\n",
              "      <td>65.801845</td>\n",
              "      <td>49.823346</td>\n",
              "      <td>21.520177</td>\n",
              "      <td>61.886944</td>\n",
              "      <td>25.549112</td>\n",
              "      <td>NaN</td>\n",
              "      <td>40.364018</td>\n",
              "      <td>12.278715</td>\n",
              "      <td>7.618649</td>\n",
              "    </tr>\n",
              "    <tr>\n",
              "      <th>381</th>\n",
              "      <td>381</td>\n",
              "      <td>918.480000</td>\n",
              "      <td>66.542000</td>\n",
              "      <td>90.900000</td>\n",
              "      <td>3.467257</td>\n",
              "      <td>89.400000</td>\n",
              "      <td>4.406772</td>\n",
              "      <td>NaN</td>\n",
              "      <td>0.000000</td>\n",
              "      <td>20.640000</td>\n",
              "      <td>14.350000</td>\n",
              "    </tr>\n",
              "    <tr>\n",
              "      <th>409</th>\n",
              "      <td>409</td>\n",
              "      <td>NaN</td>\n",
              "      <td>67.853833</td>\n",
              "      <td>65.880616</td>\n",
              "      <td>4.328594</td>\n",
              "      <td>78.570923</td>\n",
              "      <td>5.216734</td>\n",
              "      <td>0.000</td>\n",
              "      <td>0.000000</td>\n",
              "      <td>18.487385</td>\n",
              "      <td>20.356594</td>\n",
              "    </tr>\n",
              "    <tr>\n",
              "      <th>517</th>\n",
              "      <td>517</td>\n",
              "      <td>920.570000</td>\n",
              "      <td>53.600000</td>\n",
              "      <td>100.100000</td>\n",
              "      <td>4.697574</td>\n",
              "      <td>NaN</td>\n",
              "      <td>6.285801</td>\n",
              "      <td>4.712</td>\n",
              "      <td>14842.000000</td>\n",
              "      <td>79.880000</td>\n",
              "      <td>84.530000</td>\n",
              "    </tr>\n",
              "    <tr>\n",
              "      <th>519</th>\n",
              "      <td>519</td>\n",
              "      <td>916.250000</td>\n",
              "      <td>55.670000</td>\n",
              "      <td>176.400000</td>\n",
              "      <td>6.666081</td>\n",
              "      <td>188.200000</td>\n",
              "      <td>NaN</td>\n",
              "      <td>0.000</td>\n",
              "      <td>0.000000</td>\n",
              "      <td>72.550000</td>\n",
              "      <td>74.390000</td>\n",
              "    </tr>\n",
              "    <tr>\n",
              "      <th>546</th>\n",
              "      <td>546</td>\n",
              "      <td>NaN</td>\n",
              "      <td>42.746000</td>\n",
              "      <td>251.100000</td>\n",
              "      <td>12.929513</td>\n",
              "      <td>274.400000</td>\n",
              "      <td>17.604718</td>\n",
              "      <td>14.627</td>\n",
              "      <td>7825.000000</td>\n",
              "      <td>87.870000</td>\n",
              "      <td>70.770000</td>\n",
              "    </tr>\n",
              "    <tr>\n",
              "      <th>620</th>\n",
              "      <td>620</td>\n",
              "      <td>921.200000</td>\n",
              "      <td>56.786000</td>\n",
              "      <td>192.300000</td>\n",
              "      <td>9.551734</td>\n",
              "      <td>201.400000</td>\n",
              "      <td>11.005745</td>\n",
              "      <td>NaN</td>\n",
              "      <td>0.000000</td>\n",
              "      <td>59.790000</td>\n",
              "      <td>77.750000</td>\n",
              "    </tr>\n",
              "    <tr>\n",
              "      <th>625</th>\n",
              "      <td>625</td>\n",
              "      <td>912.400000</td>\n",
              "      <td>50.774000</td>\n",
              "      <td>171.600000</td>\n",
              "      <td>NaN</td>\n",
              "      <td>181.400000</td>\n",
              "      <td>4.831790</td>\n",
              "      <td>0.000</td>\n",
              "      <td>0.000000</td>\n",
              "      <td>86.840000</td>\n",
              "      <td>64.740000</td>\n",
              "    </tr>\n",
              "    <tr>\n",
              "      <th>656</th>\n",
              "      <td>656</td>\n",
              "      <td>920.830000</td>\n",
              "      <td>66.344000</td>\n",
              "      <td>NaN</td>\n",
              "      <td>15.457255</td>\n",
              "      <td>189.400000</td>\n",
              "      <td>16.486248</td>\n",
              "      <td>0.000</td>\n",
              "      <td>0.000000</td>\n",
              "      <td>23.770000</td>\n",
              "      <td>51.630000</td>\n",
              "    </tr>\n",
              "    <tr>\n",
              "      <th>670</th>\n",
              "      <td>670</td>\n",
              "      <td>910.920000</td>\n",
              "      <td>48.362000</td>\n",
              "      <td>156.500000</td>\n",
              "      <td>NaN</td>\n",
              "      <td>177.500000</td>\n",
              "      <td>16.128337</td>\n",
              "      <td>4.970</td>\n",
              "      <td>10560.000000</td>\n",
              "      <td>80.560000</td>\n",
              "      <td>88.220000</td>\n",
              "    </tr>\n",
              "    <tr>\n",
              "      <th>672</th>\n",
              "      <td>672</td>\n",
              "      <td>922.448945</td>\n",
              "      <td>72.863773</td>\n",
              "      <td>NaN</td>\n",
              "      <td>3.682370</td>\n",
              "      <td>214.196160</td>\n",
              "      <td>4.849450</td>\n",
              "      <td>0.000</td>\n",
              "      <td>0.000000</td>\n",
              "      <td>16.753670</td>\n",
              "      <td>17.804720</td>\n",
              "    </tr>\n",
              "    <tr>\n",
              "      <th>705</th>\n",
              "      <td>705</td>\n",
              "      <td>911.900000</td>\n",
              "      <td>59.072000</td>\n",
              "      <td>199.800000</td>\n",
              "      <td>1.275056</td>\n",
              "      <td>239.500000</td>\n",
              "      <td>1.834291</td>\n",
              "      <td>NaN</td>\n",
              "      <td>0.000000</td>\n",
              "      <td>77.630000</td>\n",
              "      <td>59.130000</td>\n",
              "    </tr>\n",
              "    <tr>\n",
              "      <th>731</th>\n",
              "      <td>731</td>\n",
              "      <td>922.970166</td>\n",
              "      <td>51.391847</td>\n",
              "      <td>33.810942</td>\n",
              "      <td>NaN</td>\n",
              "      <td>59.290089</td>\n",
              "      <td>11.111555</td>\n",
              "      <td>0.000</td>\n",
              "      <td>4.735034</td>\n",
              "      <td>34.807753</td>\n",
              "      <td>18.418179</td>\n",
              "    </tr>\n",
              "    <tr>\n",
              "      <th>737</th>\n",
              "      <td>737</td>\n",
              "      <td>917.895130</td>\n",
              "      <td>76.804690</td>\n",
              "      <td>104.771020</td>\n",
              "      <td>1.632705</td>\n",
              "      <td>97.178763</td>\n",
              "      <td>NaN</td>\n",
              "      <td>0.000</td>\n",
              "      <td>0.000000</td>\n",
              "      <td>13.771311</td>\n",
              "      <td>16.792455</td>\n",
              "    </tr>\n",
              "    <tr>\n",
              "      <th>788</th>\n",
              "      <td>788</td>\n",
              "      <td>917.923442</td>\n",
              "      <td>73.249717</td>\n",
              "      <td>42.101739</td>\n",
              "      <td>4.132698</td>\n",
              "      <td>64.284969</td>\n",
              "      <td>5.345258</td>\n",
              "      <td>0.000</td>\n",
              "      <td>NaN</td>\n",
              "      <td>6.939692</td>\n",
              "      <td>18.793825</td>\n",
              "    </tr>\n",
              "    <tr>\n",
              "      <th>840</th>\n",
              "      <td>840</td>\n",
              "      <td>918.043767</td>\n",
              "      <td>NaN</td>\n",
              "      <td>181.774042</td>\n",
              "      <td>0.964376</td>\n",
              "      <td>185.618601</td>\n",
              "      <td>1.570007</td>\n",
              "      <td>0.000</td>\n",
              "      <td>0.000000</td>\n",
              "      <td>11.911222</td>\n",
              "      <td>18.154358</td>\n",
              "    </tr>\n",
              "    <tr>\n",
              "      <th>848</th>\n",
              "      <td>848</td>\n",
              "      <td>915.250000</td>\n",
              "      <td>37.562000</td>\n",
              "      <td>246.500000</td>\n",
              "      <td>11.587349</td>\n",
              "      <td>258.700000</td>\n",
              "      <td>NaN</td>\n",
              "      <td>3.171</td>\n",
              "      <td>2891.000000</td>\n",
              "      <td>91.000000</td>\n",
              "      <td>90.780000</td>\n",
              "    </tr>\n",
              "    <tr>\n",
              "      <th>861</th>\n",
              "      <td>861</td>\n",
              "      <td>919.065408</td>\n",
              "      <td>NaN</td>\n",
              "      <td>172.303728</td>\n",
              "      <td>2.639600</td>\n",
              "      <td>193.058141</td>\n",
              "      <td>3.326949</td>\n",
              "      <td>0.000</td>\n",
              "      <td>0.000000</td>\n",
              "      <td>12.497839</td>\n",
              "      <td>13.438518</td>\n",
              "    </tr>\n",
              "    <tr>\n",
              "      <th>869</th>\n",
              "      <td>869</td>\n",
              "      <td>NaN</td>\n",
              "      <td>45.104000</td>\n",
              "      <td>259.000000</td>\n",
              "      <td>3.265932</td>\n",
              "      <td>275.000000</td>\n",
              "      <td>4.026492</td>\n",
              "      <td>0.000</td>\n",
              "      <td>80.000000</td>\n",
              "      <td>85.270000</td>\n",
              "      <td>90.260000</td>\n",
              "    </tr>\n",
              "    <tr>\n",
              "      <th>998</th>\n",
              "      <td>998</td>\n",
              "      <td>914.140000</td>\n",
              "      <td>71.240000</td>\n",
              "      <td>NaN</td>\n",
              "      <td>1.722444</td>\n",
              "      <td>232.900000</td>\n",
              "      <td>2.326418</td>\n",
              "      <td>0.000</td>\n",
              "      <td>0.000000</td>\n",
              "      <td>24.200000</td>\n",
              "      <td>41.380000</td>\n",
              "    </tr>\n",
              "    <tr>\n",
              "      <th>1031</th>\n",
              "      <td>1031</td>\n",
              "      <td>922.669195</td>\n",
              "      <td>NaN</td>\n",
              "      <td>47.946284</td>\n",
              "      <td>7.969686</td>\n",
              "      <td>65.770066</td>\n",
              "      <td>10.262337</td>\n",
              "      <td>0.000</td>\n",
              "      <td>0.000000</td>\n",
              "      <td>18.920805</td>\n",
              "      <td>19.641841</td>\n",
              "    </tr>\n",
              "    <tr>\n",
              "      <th>1035</th>\n",
              "      <td>1035</td>\n",
              "      <td>919.670000</td>\n",
              "      <td>77.576000</td>\n",
              "      <td>171.800000</td>\n",
              "      <td>6.554234</td>\n",
              "      <td>191.000000</td>\n",
              "      <td>8.164831</td>\n",
              "      <td>0.000</td>\n",
              "      <td>NaN</td>\n",
              "      <td>56.860000</td>\n",
              "      <td>50.650000</td>\n",
              "    </tr>\n",
              "    <tr>\n",
              "      <th>1063</th>\n",
              "      <td>1063</td>\n",
              "      <td>917.300185</td>\n",
              "      <td>65.790001</td>\n",
              "      <td>NaN</td>\n",
              "      <td>1.879553</td>\n",
              "      <td>222.498226</td>\n",
              "      <td>2.692862</td>\n",
              "      <td>0.000</td>\n",
              "      <td>0.000000</td>\n",
              "      <td>14.972668</td>\n",
              "      <td>20.966267</td>\n",
              "    </tr>\n",
              "    <tr>\n",
              "      <th>1066</th>\n",
              "      <td>1066</td>\n",
              "      <td>919.564869</td>\n",
              "      <td>73.726732</td>\n",
              "      <td>68.704694</td>\n",
              "      <td>3.551777</td>\n",
              "      <td>102.571616</td>\n",
              "      <td>4.861315</td>\n",
              "      <td>NaN</td>\n",
              "      <td>0.000000</td>\n",
              "      <td>11.657314</td>\n",
              "      <td>17.331823</td>\n",
              "    </tr>\n",
              "  </tbody>\n",
              "</table>\n",
              "</div>\n",
              "      <button class=\"colab-df-convert\" onclick=\"convertToInteractive('df-651924b5-f14c-4199-9af9-390c33fb556c')\"\n",
              "              title=\"Convert this dataframe to an interactive table.\"\n",
              "              style=\"display:none;\">\n",
              "        \n",
              "  <svg xmlns=\"http://www.w3.org/2000/svg\" height=\"24px\"viewBox=\"0 0 24 24\"\n",
              "       width=\"24px\">\n",
              "    <path d=\"M0 0h24v24H0V0z\" fill=\"none\"/>\n",
              "    <path d=\"M18.56 5.44l.94 2.06.94-2.06 2.06-.94-2.06-.94-.94-2.06-.94 2.06-2.06.94zm-11 1L8.5 8.5l.94-2.06 2.06-.94-2.06-.94L8.5 2.5l-.94 2.06-2.06.94zm10 10l.94 2.06.94-2.06 2.06-.94-2.06-.94-.94-2.06-.94 2.06-2.06.94z\"/><path d=\"M17.41 7.96l-1.37-1.37c-.4-.4-.92-.59-1.43-.59-.52 0-1.04.2-1.43.59L10.3 9.45l-7.72 7.72c-.78.78-.78 2.05 0 2.83L4 21.41c.39.39.9.59 1.41.59.51 0 1.02-.2 1.41-.59l7.78-7.78 2.81-2.81c.8-.78.8-2.07 0-2.86zM5.41 20L4 18.59l7.72-7.72 1.47 1.35L5.41 20z\"/>\n",
              "  </svg>\n",
              "      </button>\n",
              "      \n",
              "  <style>\n",
              "    .colab-df-container {\n",
              "      display:flex;\n",
              "      flex-wrap:wrap;\n",
              "      gap: 12px;\n",
              "    }\n",
              "\n",
              "    .colab-df-convert {\n",
              "      background-color: #E8F0FE;\n",
              "      border: none;\n",
              "      border-radius: 50%;\n",
              "      cursor: pointer;\n",
              "      display: none;\n",
              "      fill: #1967D2;\n",
              "      height: 32px;\n",
              "      padding: 0 0 0 0;\n",
              "      width: 32px;\n",
              "    }\n",
              "\n",
              "    .colab-df-convert:hover {\n",
              "      background-color: #E2EBFA;\n",
              "      box-shadow: 0px 1px 2px rgba(60, 64, 67, 0.3), 0px 1px 3px 1px rgba(60, 64, 67, 0.15);\n",
              "      fill: #174EA6;\n",
              "    }\n",
              "\n",
              "    [theme=dark] .colab-df-convert {\n",
              "      background-color: #3B4455;\n",
              "      fill: #D2E3FC;\n",
              "    }\n",
              "\n",
              "    [theme=dark] .colab-df-convert:hover {\n",
              "      background-color: #434B5C;\n",
              "      box-shadow: 0px 1px 3px 1px rgba(0, 0, 0, 0.15);\n",
              "      filter: drop-shadow(0px 1px 2px rgba(0, 0, 0, 0.3));\n",
              "      fill: #FFFFFF;\n",
              "    }\n",
              "  </style>\n",
              "\n",
              "      <script>\n",
              "        const buttonEl =\n",
              "          document.querySelector('#df-651924b5-f14c-4199-9af9-390c33fb556c button.colab-df-convert');\n",
              "        buttonEl.style.display =\n",
              "          google.colab.kernel.accessAllowed ? 'block' : 'none';\n",
              "\n",
              "        async function convertToInteractive(key) {\n",
              "          const element = document.querySelector('#df-651924b5-f14c-4199-9af9-390c33fb556c');\n",
              "          const dataTable =\n",
              "            await google.colab.kernel.invokeFunction('convertToInteractive',\n",
              "                                                     [key], {});\n",
              "          if (!dataTable) return;\n",
              "\n",
              "          const docLinkHtml = 'Like what you see? Visit the ' +\n",
              "            '<a target=\"_blank\" href=https://colab.research.google.com/notebooks/data_table.ipynb>data table notebook</a>'\n",
              "            + ' to learn more about interactive tables.';\n",
              "          element.innerHTML = '';\n",
              "          dataTable['output_type'] = 'display_data';\n",
              "          await google.colab.output.renderOutput(dataTable, element);\n",
              "          const docLink = document.createElement('div');\n",
              "          docLink.innerHTML = docLinkHtml;\n",
              "          element.appendChild(docLink);\n",
              "        }\n",
              "      </script>\n",
              "    </div>\n",
              "  </div>\n",
              "  "
            ],
            "text/plain": [
              "      number  air_pressure_9am  ...  relative_humidity_9am  relative_humidity_3pm\n",
              "16        16        917.890000  ...              48.990000              51.190000\n",
              "111      111        915.290000  ...              21.500000              29.690000\n",
              "177      177        915.900000  ...              29.260000              46.500000\n",
              "262      262        923.596607  ...              17.990876              16.461685\n",
              "277      277        920.480000  ...              52.580000              54.030000\n",
              "334      334        916.230000  ...              31.880000              32.900000\n",
              "358      358        917.440000  ...              13.880000              25.930000\n",
              "361      361        920.444946  ...              12.278715               7.618649\n",
              "381      381        918.480000  ...              20.640000              14.350000\n",
              "409      409               NaN  ...              18.487385              20.356594\n",
              "517      517        920.570000  ...              79.880000              84.530000\n",
              "519      519        916.250000  ...              72.550000              74.390000\n",
              "546      546               NaN  ...              87.870000              70.770000\n",
              "620      620        921.200000  ...              59.790000              77.750000\n",
              "625      625        912.400000  ...              86.840000              64.740000\n",
              "656      656        920.830000  ...              23.770000              51.630000\n",
              "670      670        910.920000  ...              80.560000              88.220000\n",
              "672      672        922.448945  ...              16.753670              17.804720\n",
              "705      705        911.900000  ...              77.630000              59.130000\n",
              "731      731        922.970166  ...              34.807753              18.418179\n",
              "737      737        917.895130  ...              13.771311              16.792455\n",
              "788      788        917.923442  ...               6.939692              18.793825\n",
              "840      840        918.043767  ...              11.911222              18.154358\n",
              "848      848        915.250000  ...              91.000000              90.780000\n",
              "861      861        919.065408  ...              12.497839              13.438518\n",
              "869      869               NaN  ...              85.270000              90.260000\n",
              "998      998        914.140000  ...              24.200000              41.380000\n",
              "1031    1031        922.669195  ...              18.920805              19.641841\n",
              "1035    1035        919.670000  ...              56.860000              50.650000\n",
              "1063    1063        917.300185  ...              14.972668              20.966267\n",
              "1066    1066        919.564869  ...              11.657314              17.331823\n",
              "\n",
              "[31 rows x 11 columns]"
            ]
          },
          "metadata": {},
          "execution_count": 7
        }
      ]
    },
    {
      "cell_type": "markdown",
      "source": [
        "#Data cleaning steps"
      ],
      "metadata": {
        "id": "Pa8ODoqZ7tWP"
      }
    },
    {
      "cell_type": "markdown",
      "source": [
        "We will not need to number for each row so we can clean it."
      ],
      "metadata": {
        "id": "aO8zyWcS71fU"
      }
    },
    {
      "cell_type": "code",
      "source": [
        "del data['number']"
      ],
      "metadata": {
        "id": "ZPxUS6on9ATj"
      },
      "execution_count": null,
      "outputs": []
    },
    {
      "cell_type": "markdown",
      "source": [
        "Now let's drop null values using the pandas dropna function."
      ],
      "metadata": {
        "id": "ZiWo8XAr9Krw"
      }
    },
    {
      "cell_type": "code",
      "source": [
        "before_rows=data.shape[0]\n",
        "print(before_rows)"
      ],
      "metadata": {
        "colab": {
          "base_uri": "https://localhost:8080/"
        },
        "id": "FZDAs79l9axS",
        "outputId": "a2de0bbd-4f06-4f96-e01e-9a80d508781f"
      },
      "execution_count": null,
      "outputs": [
        {
          "output_type": "stream",
          "name": "stdout",
          "text": [
            "1095\n"
          ]
        }
      ]
    },
    {
      "cell_type": "code",
      "source": [
        "data=data.dropna()\n"
      ],
      "metadata": {
        "id": "3a6XRunb-Erx"
      },
      "execution_count": null,
      "outputs": []
    },
    {
      "cell_type": "code",
      "source": [
        "after_rows = data.shape[0]\n",
        "print(after_rows)"
      ],
      "metadata": {
        "colab": {
          "base_uri": "https://localhost:8080/"
        },
        "id": "bEtm3Ndh-YSS",
        "outputId": "4df77616-c5c6-473f-8ba5-009a4a562852"
      },
      "execution_count": null,
      "outputs": [
        {
          "output_type": "stream",
          "name": "stdout",
          "text": [
            "1064\n"
          ]
        }
      ]
    },
    {
      "cell_type": "markdown",
      "source": [
        "How many rows dropped due to cleaning?"
      ],
      "metadata": {
        "id": "n29ErIMW-35W"
      }
    },
    {
      "cell_type": "code",
      "source": [
        "before_rows - after_rows"
      ],
      "metadata": {
        "colab": {
          "base_uri": "https://localhost:8080/"
        },
        "id": "VRx9Wxp6_E2i",
        "outputId": "cfbbb47c-5ade-4a1f-ccad-87616a9f68f4"
      },
      "execution_count": null,
      "outputs": [
        {
          "output_type": "execute_result",
          "data": {
            "text/plain": [
              "31"
            ]
          },
          "metadata": {},
          "execution_count": 12
        }
      ]
    },
    {
      "cell_type": "markdown",
      "source": [
        "#Convert to a Classification Task"
      ],
      "metadata": {
        "id": "f3TC8mGz_Yny"
      }
    },
    {
      "cell_type": "markdown",
      "source": [
        "Binarize the relative_humidity_3pm to 0 or 1"
      ],
      "metadata": {
        "id": "nRJTvm-K_vkx"
      }
    },
    {
      "cell_type": "code",
      "source": [
        "clean_data = data.copy()\n",
        "clean_data['high_humidity_label'] = (clean_data['relative_humidity_3pm']> 24.99)*1\n",
        "print(clean_data['high_humidity_label'])"
      ],
      "metadata": {
        "colab": {
          "base_uri": "https://localhost:8080/"
        },
        "id": "bLrR4icWjzK5",
        "outputId": "79580909-0a3e-4861-9d4b-2820fc03d433"
      },
      "execution_count": null,
      "outputs": [
        {
          "output_type": "stream",
          "name": "stdout",
          "text": [
            "0       1\n",
            "1       0\n",
            "2       0\n",
            "3       0\n",
            "4       1\n",
            "       ..\n",
            "1090    1\n",
            "1091    1\n",
            "1092    1\n",
            "1093    1\n",
            "1094    0\n",
            "Name: high_humidity_label, Length: 1064, dtype: int64\n"
          ]
        }
      ]
    },
    {
      "cell_type": "markdown",
      "source": [
        "Target is stored in Y"
      ],
      "metadata": {
        "id": "87nDxQdJos3Y"
      }
    },
    {
      "cell_type": "code",
      "source": [
        "1*False"
      ],
      "metadata": {
        "colab": {
          "base_uri": "https://localhost:8080/"
        },
        "id": "IpQ360mRo2Hb",
        "outputId": "cf9afdd6-4ca9-4397-8462-6bf413da5d2a"
      },
      "execution_count": null,
      "outputs": [
        {
          "output_type": "execute_result",
          "data": {
            "text/plain": [
              "0"
            ]
          },
          "metadata": {},
          "execution_count": 14
        }
      ]
    },
    {
      "cell_type": "code",
      "source": [
        "y=clean_data[['high_humidity_label']].copy()\n",
        "#y"
      ],
      "metadata": {
        "id": "whVeWRneo_tZ"
      },
      "execution_count": null,
      "outputs": []
    },
    {
      "cell_type": "code",
      "source": [
        "clean_data['relative_humidity_3pm'].head()"
      ],
      "metadata": {
        "colab": {
          "base_uri": "https://localhost:8080/"
        },
        "id": "LlSgzXndpicB",
        "outputId": "4ca87d49-244a-4f6e-fbec-c6b43eb521a4"
      },
      "execution_count": null,
      "outputs": [
        {
          "output_type": "execute_result",
          "data": {
            "text/plain": [
              "0    36.160000\n",
              "1    19.426597\n",
              "2    14.460000\n",
              "3    12.742547\n",
              "4    76.740000\n",
              "Name: relative_humidity_3pm, dtype: float64"
            ]
          },
          "metadata": {},
          "execution_count": 16
        }
      ]
    },
    {
      "cell_type": "markdown",
      "source": [
        "Use 9am Sensor Signals as Features to Predict Humidity at 3pm"
      ],
      "metadata": {
        "id": "PdXngQKCraxV"
      }
    },
    {
      "cell_type": "code",
      "source": [
        "morning_features = ['air_pressure_9am','air_temp_9am','avg_wind_direction_9am','avg_wind_speed_9am','max_wind_direction_9am','max_wind_speed_9am','rain_accumulation_9am','rain_duration_9am']"
      ],
      "metadata": {
        "id": "dLQdqJFqgiT_"
      },
      "execution_count": null,
      "outputs": []
    },
    {
      "cell_type": "code",
      "source": [
        "x = clean_data[morning_features].copy()"
      ],
      "metadata": {
        "id": "KB-sPdMnjSQg"
      },
      "execution_count": null,
      "outputs": []
    },
    {
      "cell_type": "code",
      "source": [
        "x.columns"
      ],
      "metadata": {
        "colab": {
          "base_uri": "https://localhost:8080/"
        },
        "id": "mUBHtSw5kObE",
        "outputId": "e485d8c8-44c1-4780-f51d-24883e3d6c77"
      },
      "execution_count": null,
      "outputs": [
        {
          "output_type": "execute_result",
          "data": {
            "text/plain": [
              "Index(['air_pressure_9am', 'air_temp_9am', 'avg_wind_direction_9am',\n",
              "       'avg_wind_speed_9am', 'max_wind_direction_9am', 'max_wind_speed_9am',\n",
              "       'rain_accumulation_9am', 'rain_duration_9am'],\n",
              "      dtype='object')"
            ]
          },
          "metadata": {},
          "execution_count": 19
        }
      ]
    },
    {
      "cell_type": "code",
      "source": [
        "y.columns"
      ],
      "metadata": {
        "colab": {
          "base_uri": "https://localhost:8080/"
        },
        "id": "uMYMUnGsk-r5",
        "outputId": "256f6619-80f8-4d59-f53b-401e425fd04b"
      },
      "execution_count": null,
      "outputs": [
        {
          "output_type": "execute_result",
          "data": {
            "text/plain": [
              "Index(['high_humidity_label'], dtype='object')"
            ]
          },
          "metadata": {},
          "execution_count": 20
        }
      ]
    },
    {
      "cell_type": "markdown",
      "source": [
        "#Perform Test and Train split"
      ],
      "metadata": {
        "id": "_uMgr0EDlLVq"
      }
    },
    {
      "cell_type": "code",
      "source": [
        "from sklearn.model_selection import train_test_split"
      ],
      "metadata": {
        "id": "FuYu-ePen1xJ"
      },
      "execution_count": null,
      "outputs": []
    },
    {
      "cell_type": "code",
      "source": [
        "x_train, x_test, y_train, y_test = train_test_split(x,y, test_size=0.33, random_state=325)"
      ],
      "metadata": {
        "id": "uWzco51Fn97B"
      },
      "execution_count": null,
      "outputs": []
    },
    {
      "cell_type": "markdown",
      "source": [
        "Fit on Train Set"
      ],
      "metadata": {
        "id": "FJUx3AILo_Ka"
      }
    },
    {
      "cell_type": "code",
      "source": [
        "humidity_classifier = DecisionTreeClassifier(max_leaf_nodes=10, random_state=0)\n",
        "humidity_classifier.fit(x_train,y_train)"
      ],
      "metadata": {
        "colab": {
          "base_uri": "https://localhost:8080/"
        },
        "id": "7A1mDr2rpNZL",
        "outputId": "0f55417c-3c68-4eb2-ea31-0b2784356938"
      },
      "execution_count": null,
      "outputs": [
        {
          "output_type": "execute_result",
          "data": {
            "text/plain": [
              "DecisionTreeClassifier(max_leaf_nodes=10, random_state=0)"
            ]
          },
          "metadata": {},
          "execution_count": 25
        }
      ]
    },
    {
      "cell_type": "code",
      "source": [
        "type(humidity_classifier)"
      ],
      "metadata": {
        "colab": {
          "base_uri": "https://localhost:8080/"
        },
        "id": "TCGQeYeXq0YT",
        "outputId": "dc5992da-1e67-47ea-9d14-29fff967dd0c"
      },
      "execution_count": null,
      "outputs": [
        {
          "output_type": "execute_result",
          "data": {
            "text/plain": [
              "sklearn.tree._classes.DecisionTreeClassifier"
            ]
          },
          "metadata": {},
          "execution_count": 26
        }
      ]
    },
    {
      "cell_type": "markdown",
      "source": [
        "Predict on Test Set"
      ],
      "metadata": {
        "id": "vkYl4hAWrGhl"
      }
    },
    {
      "cell_type": "code",
      "source": [
        "predictions=humidity_classifier.predict(x_test)"
      ],
      "metadata": {
        "id": "aknhF6xWrgY5"
      },
      "execution_count": null,
      "outputs": []
    },
    {
      "cell_type": "code",
      "source": [
        "predictions[:10]"
      ],
      "metadata": {
        "colab": {
          "base_uri": "https://localhost:8080/"
        },
        "id": "GeKpybDarzrX",
        "outputId": "079a6b27-4273-40ca-d275-9e951757900f"
      },
      "execution_count": null,
      "outputs": [
        {
          "output_type": "execute_result",
          "data": {
            "text/plain": [
              "array([0, 0, 0, 1, 1, 1, 1, 0, 0, 0])"
            ]
          },
          "metadata": {},
          "execution_count": 28
        }
      ]
    },
    {
      "cell_type": "code",
      "source": [
        "y_test['high_humidity_label'][:10]"
      ],
      "metadata": {
        "colab": {
          "base_uri": "https://localhost:8080/"
        },
        "id": "H7Ny1BtssAJf",
        "outputId": "e56b5c45-46dd-4ee6-88f4-feeef797561d"
      },
      "execution_count": null,
      "outputs": [
        {
          "output_type": "execute_result",
          "data": {
            "text/plain": [
              "459    1\n",
              "875    0\n",
              "602    0\n",
              "138    1\n",
              "874    1\n",
              "42     1\n",
              "599    0\n",
              "165    0\n",
              "10     1\n",
              "107    0\n",
              "Name: high_humidity_label, dtype: int64"
            ]
          },
          "metadata": {},
          "execution_count": 29
        }
      ]
    },
    {
      "cell_type": "markdown",
      "source": [
        "Measure Accuracy of the Classifier"
      ],
      "metadata": {
        "id": "50RMRRk2saZE"
      }
    },
    {
      "cell_type": "code",
      "source": [
        "accuracy_score(y_true = y_test,y_pred = predictions)"
      ],
      "metadata": {
        "colab": {
          "base_uri": "https://localhost:8080/"
        },
        "id": "OUC_6rh_sn4t",
        "outputId": "b7012186-7547-496d-fb05-e3bca0f41b83"
      },
      "execution_count": null,
      "outputs": [
        {
          "output_type": "execute_result",
          "data": {
            "text/plain": [
              "0.7585227272727273"
            ]
          },
          "metadata": {},
          "execution_count": 30
        }
      ]
    }
  ]
}